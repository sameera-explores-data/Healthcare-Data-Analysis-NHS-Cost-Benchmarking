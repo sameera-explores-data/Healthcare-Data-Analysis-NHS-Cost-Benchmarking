{
 "cells": [
  {
   "cell_type": "markdown",
   "id": "36b8348f-048a-4b9d-a0af-3dc6e96d8477",
   "metadata": {},
   "source": [
    "# 3.\tNHS Benchmark Comparison\n"
   ]
  },
  {
   "cell_type": "markdown",
   "id": "0ce8aa15-0f2a-496a-a5bf-bd420251cf20",
   "metadata": {},
   "source": [
    "### Compare treatment costs with NHS Tariff Payment System data\n"
   ]
  },
  {
   "cell_type": "markdown",
   "id": "d1d17354-f4ec-43b4-a15b-4eca83f08a09",
   "metadata": {},
   "source": [
    "### Importing the right datatype"
   ]
  },
  {
   "cell_type": "code",
   "execution_count": 1,
   "id": "ec841e89-c67b-4c2f-8396-8832bb88556b",
   "metadata": {},
   "outputs": [],
   "source": [
    "import pandas as pd"
   ]
  },
  {
   "cell_type": "code",
   "execution_count": 27,
   "id": "95a9e1c3-7f7b-48a0-9529-a83866b8c921",
   "metadata": {},
   "outputs": [],
   "source": [
    "# Load datasets\n",
    "healthcare_df = pd.read_csv('uk_healthcare_dataset_with_nhs.csv')\n",
    "nhs_tariff_df = pd.read_csv('nhs_tariff.csv')\n"
   ]
  },
  {
   "cell_type": "code",
   "execution_count": 28,
   "id": "8eb1c39d-bc31-4054-bf16-9185850e4f29",
   "metadata": {},
   "outputs": [],
   "source": [
    "# print(healthcare_df)"
   ]
  },
  {
   "cell_type": "code",
   "execution_count": 29,
   "id": "6e0165ab-92e7-4154-ac79-804da656bb38",
   "metadata": {},
   "outputs": [
    {
     "name": "stdout",
     "output_type": "stream",
     "text": [
      "Healthcare dataset columns: ['Patient_ID', 'Visit_Date', 'Age', 'Gender', 'Region', 'Diagnosis_Code', 'Diagnosis_Description', 'Treatment_Code', 'Treatment_Description', 'Cost', 'Outcome', 'NHS_Guideline_Adherence']\n",
      "NHS Tariff dataset columns: ['Treatment_Code', 'HRG_Description', 'NHS_Tariff_Cost']\n"
     ]
    }
   ],
   "source": [
    "print(\"Healthcare dataset columns:\", healthcare_df.columns.tolist())\n",
    "print(\"NHS Tariff dataset columns:\", nhs_tariff_df.columns.tolist())\n"
   ]
  },
  {
   "cell_type": "code",
   "execution_count": 30,
   "id": "40959c64-3c95-482b-abae-d2bf9b12883c",
   "metadata": {},
   "outputs": [],
   "source": [
    "# Check column names to ensure correct merging\n",
    "# print(healthcare_df.columns)\n",
    "# print(nhs_tariff_df.columns)\n",
    "\n",
    "# Example: assuming both datasets have a common column called 'Treatment_Code' and cost columns\n",
    "# For example, make sure both dataframes have a common key:\n",
    "# 'TreatmentCode' and cost columns like 'ActualCost' and 'NHSTariffCost'\n",
    "\n",
    "# Merge the datasets on the treatment code\n",
    "merged_df = pd.merge(healthcare_df, nhs_tariff_df, on='Treatment_Code', how='left')\n"
   ]
  },
  {
   "cell_type": "code",
   "execution_count": 31,
   "id": "1a004709-8cad-4d46-9a30-65cd40a92ce5",
   "metadata": {},
   "outputs": [],
   "source": [
    "# Create a new column to compare actual vs NHS tariff cost\n",
    "merged_df['Cost_Comparison'] = merged_df.apply(\n",
    "    lambda row: 'Above Tariff' if row['Cost'] > row['NHS_Tariff_Cost']\n",
    "    else ('Below Tariff' if row['Cost'] < row['NHS_Tariff_Cost'] else 'At Tariff'),\n",
    "    axis=1\n",
    ")"
   ]
  },
  {
   "cell_type": "code",
   "execution_count": 32,
   "id": "34a2731d-9dd5-4041-a585-7d7287cd37ff",
   "metadata": {},
   "outputs": [
    {
     "name": "stdout",
     "output_type": "stream",
     "text": [
      "Summary of NHS Tariff Comparison:\n",
      "Cost_Comparison\n",
      "Above Tariff    31138\n",
      "Below Tariff    18777\n",
      "At Tariff        4500\n",
      "Name: count, dtype: int64\n"
     ]
    }
   ],
   "source": [
    "# Summary of comparison\n",
    "comparison_summary = merged_df['Cost_Comparison'].value_counts()\n",
    "print(\"Summary of NHS Tariff Comparison:\")\n",
    "print(comparison_summary)"
   ]
  },
  {
   "cell_type": "markdown",
   "id": "cdd47c25-53f6-47bd-a444-f6477760e28a",
   "metadata": {},
   "source": [
    "# 4.\tGeographic Health Pattern Analysis\n"
   ]
  },
  {
   "cell_type": "markdown",
   "id": "95263720-2e87-4e8f-9804-fb631190a5b8",
   "metadata": {},
   "source": [
    "### Identify trends such as regional prevalence of certain conditions."
   ]
  },
  {
   "cell_type": "code",
   "execution_count": 40,
   "id": "8557dc5c-eae3-46ef-803c-5401d9986107",
   "metadata": {},
   "outputs": [
    {
     "name": "stdout",
     "output_type": "stream",
     "text": [
      "        Region Diagnosis_Description  Case_Count\n",
      "28  Manchester          Hypertension          10\n",
      "27  Manchester            Depression          13\n",
      "25  Manchester                Asthma          17\n",
      "26  Manchester             Back Pain          19\n",
      "29  Manchester       Type 2 Diabetes          26\n",
      "20      London                Asthma           9\n",
      "24      London       Type 2 Diabetes          18\n",
      "21      London             Back Pain          19\n",
      "22      London            Depression          19\n",
      "23      London          Hypertension          25\n",
      "17       Leeds            Depression          11\n",
      "19       Leeds       Type 2 Diabetes          12\n",
      "15       Leeds                Asthma          15\n",
      "18       Leeds          Hypertension          15\n",
      "16       Leeds             Back Pain          16\n",
      "10     Glasgow                Asthma          11\n",
      "13     Glasgow          Hypertension          15\n",
      "11     Glasgow             Back Pain          18\n",
      "14     Glasgow       Type 2 Diabetes          18\n",
      "12     Glasgow            Depression          22\n",
      "8      Bristol          Hypertension          12\n",
      "5      Bristol                Asthma          13\n",
      "9      Bristol       Type 2 Diabetes          16\n",
      "6      Bristol             Back Pain          19\n",
      "7      Bristol            Depression          22\n",
      "0   Birmingham                Asthma          17\n",
      "4   Birmingham       Type 2 Diabetes          17\n",
      "1   Birmingham             Back Pain          18\n",
      "2   Birmingham            Depression          19\n",
      "3   Birmingham          Hypertension          19\n"
     ]
    }
   ],
   "source": [
    "# Group by Region and Diagnosis_Description to count occurrences\n",
    "regional_trends = healthcare_df.groupby(['Region', 'Diagnosis_Description']).size().reset_index(name='Case_Count')\n",
    "\n",
    "# Sort the trends by Region and then by number of cases in descending order\n",
    "regional_trends = regional_trends.sort_values(by=['Region', 'Case_Count'], ascending=[False, True])\n",
    "print(regional_trends)\n",
    "\n"
   ]
  },
  {
   "cell_type": "code",
   "execution_count": 47,
   "id": "89cfda16-fb90-4f02-8d84-6b9b755ee452",
   "metadata": {},
   "outputs": [
    {
     "name": "stdout",
     "output_type": "stream",
     "text": [
      "        Region Diagnosis_Description  Case_Count\n",
      "29  Manchester       Type 2 Diabetes          26\n",
      "23      London          Hypertension          25\n",
      "7      Bristol            Depression          22\n",
      "12     Glasgow            Depression          22\n",
      "2   Birmingham            Depression          19\n"
     ]
    }
   ],
   "source": [
    "# Group by Region and Diagnosis_Description to get case counts\n",
    "regional_trends = healthcare_df.groupby(['Region', 'Diagnosis_Description']).size().reset_index(name='Case_Count')\n",
    "\n",
    "# Sort only by Case_Count in descending order\n",
    "regional_trends_sorted = regional_trends.sort_values(by='Case_Count', ascending=False)\n",
    "\n",
    "# Display the result\n",
    "# print(regional_trends_sorted)\n",
    "\n",
    "# # Optional: View top 5 conditions per region\n",
    "print(regional_trends_sorted.head(5))"
   ]
  },
  {
   "cell_type": "code",
   "execution_count": null,
   "id": "4145756a-b3a8-4d2c-a5c1-7989a5d58718",
   "metadata": {},
   "outputs": [],
   "source": []
  }
 ],
 "metadata": {
  "kernelspec": {
   "display_name": "Python 3 (ipykernel)",
   "language": "python",
   "name": "python3"
  },
  "language_info": {
   "codemirror_mode": {
    "name": "ipython",
    "version": 3
   },
   "file_extension": ".py",
   "mimetype": "text/x-python",
   "name": "python",
   "nbconvert_exporter": "python",
   "pygments_lexer": "ipython3",
   "version": "3.11.7"
  }
 },
 "nbformat": 4,
 "nbformat_minor": 5
}
